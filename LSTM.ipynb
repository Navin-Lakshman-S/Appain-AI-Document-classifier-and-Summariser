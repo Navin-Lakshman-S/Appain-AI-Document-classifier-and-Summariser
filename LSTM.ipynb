{
  "cells": [
    {
      "cell_type": "markdown",
      "metadata": {
        "id": "FPLYlpZ1FeNe"
      },
      "source": [
        "#Instal dependencies"
      ]
    },
    {
      "cell_type": "code",
      "execution_count": 1,
      "metadata": {
        "colab": {
          "base_uri": "https://localhost:8080/"
        },
        "collapsed": true,
        "id": "be2FguJkFO5k",
        "outputId": "da247f0a-b121-487a-efe0-3ab952df5aa4"
      },
      "outputs": [
        {
          "name": "stdout",
          "output_type": "stream",
          "text": [
            "Requirement already satisfied: pandas in /home/navin-lakshh/miniconda3/envs/neuDocUnder/lib/python3.12/site-packages (2.2.3)\n",
            "Requirement already satisfied: numpy in /home/navin-lakshh/miniconda3/envs/neuDocUnder/lib/python3.12/site-packages (2.0.2)\n",
            "Requirement already satisfied: tensorflow in /home/navin-lakshh/miniconda3/envs/neuDocUnder/lib/python3.12/site-packages (2.18.0)\n",
            "Requirement already satisfied: scikit-learn in /home/navin-lakshh/miniconda3/envs/neuDocUnder/lib/python3.12/site-packages (1.6.0)\n",
            "Requirement already satisfied: python-dateutil>=2.8.2 in /home/navin-lakshh/miniconda3/envs/neuDocUnder/lib/python3.12/site-packages (from pandas) (2.9.0.post0)\n",
            "Requirement already satisfied: pytz>=2020.1 in /home/navin-lakshh/miniconda3/envs/neuDocUnder/lib/python3.12/site-packages (from pandas) (2024.2)\n",
            "Requirement already satisfied: tzdata>=2022.7 in /home/navin-lakshh/miniconda3/envs/neuDocUnder/lib/python3.12/site-packages (from pandas) (2024.2)\n",
            "Requirement already satisfied: absl-py>=1.0.0 in /home/navin-lakshh/miniconda3/envs/neuDocUnder/lib/python3.12/site-packages (from tensorflow) (2.1.0)\n",
            "Requirement already satisfied: astunparse>=1.6.0 in /home/navin-lakshh/miniconda3/envs/neuDocUnder/lib/python3.12/site-packages (from tensorflow) (1.6.3)\n",
            "Requirement already satisfied: flatbuffers>=24.3.25 in /home/navin-lakshh/miniconda3/envs/neuDocUnder/lib/python3.12/site-packages (from tensorflow) (24.12.23)\n",
            "Requirement already satisfied: gast!=0.5.0,!=0.5.1,!=0.5.2,>=0.2.1 in /home/navin-lakshh/miniconda3/envs/neuDocUnder/lib/python3.12/site-packages (from tensorflow) (0.6.0)\n",
            "Requirement already satisfied: google-pasta>=0.1.1 in /home/navin-lakshh/miniconda3/envs/neuDocUnder/lib/python3.12/site-packages (from tensorflow) (0.2.0)\n",
            "Requirement already satisfied: libclang>=13.0.0 in /home/navin-lakshh/miniconda3/envs/neuDocUnder/lib/python3.12/site-packages (from tensorflow) (18.1.1)\n",
            "Requirement already satisfied: opt-einsum>=2.3.2 in /home/navin-lakshh/miniconda3/envs/neuDocUnder/lib/python3.12/site-packages (from tensorflow) (3.4.0)\n",
            "Requirement already satisfied: packaging in /home/navin-lakshh/miniconda3/envs/neuDocUnder/lib/python3.12/site-packages (from tensorflow) (24.2)\n",
            "Requirement already satisfied: protobuf!=4.21.0,!=4.21.1,!=4.21.2,!=4.21.3,!=4.21.4,!=4.21.5,<6.0.0dev,>=3.20.3 in /home/navin-lakshh/miniconda3/envs/neuDocUnder/lib/python3.12/site-packages (from tensorflow) (5.29.2)\n",
            "Requirement already satisfied: requests<3,>=2.21.0 in /home/navin-lakshh/miniconda3/envs/neuDocUnder/lib/python3.12/site-packages (from tensorflow) (2.32.3)\n",
            "Requirement already satisfied: setuptools in /home/navin-lakshh/miniconda3/envs/neuDocUnder/lib/python3.12/site-packages (from tensorflow) (75.1.0)\n",
            "Requirement already satisfied: six>=1.12.0 in /home/navin-lakshh/miniconda3/envs/neuDocUnder/lib/python3.12/site-packages (from tensorflow) (1.17.0)\n",
            "Requirement already satisfied: termcolor>=1.1.0 in /home/navin-lakshh/miniconda3/envs/neuDocUnder/lib/python3.12/site-packages (from tensorflow) (2.5.0)\n",
            "Requirement already satisfied: typing-extensions>=3.6.6 in /home/navin-lakshh/miniconda3/envs/neuDocUnder/lib/python3.12/site-packages (from tensorflow) (4.12.2)\n",
            "Requirement already satisfied: wrapt>=1.11.0 in /home/navin-lakshh/miniconda3/envs/neuDocUnder/lib/python3.12/site-packages (from tensorflow) (1.17.0)\n",
            "Requirement already satisfied: grpcio<2.0,>=1.24.3 in /home/navin-lakshh/miniconda3/envs/neuDocUnder/lib/python3.12/site-packages (from tensorflow) (1.68.1)\n",
            "Requirement already satisfied: tensorboard<2.19,>=2.18 in /home/navin-lakshh/miniconda3/envs/neuDocUnder/lib/python3.12/site-packages (from tensorflow) (2.18.0)\n",
            "Requirement already satisfied: keras>=3.5.0 in /home/navin-lakshh/miniconda3/envs/neuDocUnder/lib/python3.12/site-packages (from tensorflow) (3.7.0)\n",
            "Requirement already satisfied: h5py>=3.11.0 in /home/navin-lakshh/miniconda3/envs/neuDocUnder/lib/python3.12/site-packages (from tensorflow) (3.12.1)\n",
            "Requirement already satisfied: ml-dtypes<0.5.0,>=0.4.0 in /home/navin-lakshh/miniconda3/envs/neuDocUnder/lib/python3.12/site-packages (from tensorflow) (0.4.1)\n",
            "Requirement already satisfied: scipy>=1.6.0 in /home/navin-lakshh/miniconda3/envs/neuDocUnder/lib/python3.12/site-packages (from scikit-learn) (1.14.1)\n",
            "Requirement already satisfied: joblib>=1.2.0 in /home/navin-lakshh/miniconda3/envs/neuDocUnder/lib/python3.12/site-packages (from scikit-learn) (1.4.2)\n",
            "Requirement already satisfied: threadpoolctl>=3.1.0 in /home/navin-lakshh/miniconda3/envs/neuDocUnder/lib/python3.12/site-packages (from scikit-learn) (3.5.0)\n",
            "Requirement already satisfied: wheel<1.0,>=0.23.0 in /home/navin-lakshh/miniconda3/envs/neuDocUnder/lib/python3.12/site-packages (from astunparse>=1.6.0->tensorflow) (0.44.0)\n",
            "Requirement already satisfied: rich in /home/navin-lakshh/miniconda3/envs/neuDocUnder/lib/python3.12/site-packages (from keras>=3.5.0->tensorflow) (13.9.4)\n",
            "Requirement already satisfied: namex in /home/navin-lakshh/miniconda3/envs/neuDocUnder/lib/python3.12/site-packages (from keras>=3.5.0->tensorflow) (0.0.8)\n",
            "Requirement already satisfied: optree in /home/navin-lakshh/miniconda3/envs/neuDocUnder/lib/python3.12/site-packages (from keras>=3.5.0->tensorflow) (0.13.1)\n",
            "Requirement already satisfied: charset-normalizer<4,>=2 in /home/navin-lakshh/miniconda3/envs/neuDocUnder/lib/python3.12/site-packages (from requests<3,>=2.21.0->tensorflow) (3.4.0)\n",
            "Requirement already satisfied: idna<4,>=2.5 in /home/navin-lakshh/miniconda3/envs/neuDocUnder/lib/python3.12/site-packages (from requests<3,>=2.21.0->tensorflow) (3.10)\n",
            "Requirement already satisfied: urllib3<3,>=1.21.1 in /home/navin-lakshh/miniconda3/envs/neuDocUnder/lib/python3.12/site-packages (from requests<3,>=2.21.0->tensorflow) (2.3.0)\n",
            "Requirement already satisfied: certifi>=2017.4.17 in /home/navin-lakshh/miniconda3/envs/neuDocUnder/lib/python3.12/site-packages (from requests<3,>=2.21.0->tensorflow) (2024.12.14)\n",
            "Requirement already satisfied: markdown>=2.6.8 in /home/navin-lakshh/miniconda3/envs/neuDocUnder/lib/python3.12/site-packages (from tensorboard<2.19,>=2.18->tensorflow) (3.7)\n",
            "Requirement already satisfied: tensorboard-data-server<0.8.0,>=0.7.0 in /home/navin-lakshh/miniconda3/envs/neuDocUnder/lib/python3.12/site-packages (from tensorboard<2.19,>=2.18->tensorflow) (0.7.2)\n",
            "Requirement already satisfied: werkzeug>=1.0.1 in /home/navin-lakshh/miniconda3/envs/neuDocUnder/lib/python3.12/site-packages (from tensorboard<2.19,>=2.18->tensorflow) (3.1.3)\n",
            "Requirement already satisfied: MarkupSafe>=2.1.1 in /home/navin-lakshh/miniconda3/envs/neuDocUnder/lib/python3.12/site-packages (from werkzeug>=1.0.1->tensorboard<2.19,>=2.18->tensorflow) (3.0.2)\n",
            "Requirement already satisfied: markdown-it-py>=2.2.0 in /home/navin-lakshh/miniconda3/envs/neuDocUnder/lib/python3.12/site-packages (from rich->keras>=3.5.0->tensorflow) (3.0.0)\n",
            "Requirement already satisfied: pygments<3.0.0,>=2.13.0 in /home/navin-lakshh/miniconda3/envs/neuDocUnder/lib/python3.12/site-packages (from rich->keras>=3.5.0->tensorflow) (2.18.0)\n",
            "Requirement already satisfied: mdurl~=0.1 in /home/navin-lakshh/miniconda3/envs/neuDocUnder/lib/python3.12/site-packages (from markdown-it-py>=2.2.0->rich->keras>=3.5.0->tensorflow) (0.1.2)\n"
          ]
        }
      ],
      "source": [
        "!pip install pandas numpy tensorflow scikit-learn"
      ]
    },
    {
      "cell_type": "code",
      "execution_count": 2,
      "metadata": {
        "id": "kPHDMNw_Fcbd"
      },
      "outputs": [
        {
          "name": "stderr",
          "output_type": "stream",
          "text": [
            "2024-12-24 22:51:27.200339: I tensorflow/core/util/port.cc:153] oneDNN custom operations are on. You may see slightly different numerical results due to floating-point round-off errors from different computation orders. To turn them off, set the environment variable `TF_ENABLE_ONEDNN_OPTS=0`.\n",
            "2024-12-24 22:51:27.201103: I external/local_xla/xla/tsl/cuda/cudart_stub.cc:32] Could not find cuda drivers on your machine, GPU will not be used.\n",
            "2024-12-24 22:51:27.204580: I external/local_xla/xla/tsl/cuda/cudart_stub.cc:32] Could not find cuda drivers on your machine, GPU will not be used.\n",
            "2024-12-24 22:51:27.213197: E external/local_xla/xla/stream_executor/cuda/cuda_fft.cc:477] Unable to register cuFFT factory: Attempting to register factory for plugin cuFFT when one has already been registered\n",
            "WARNING: All log messages before absl::InitializeLog() is called are written to STDERR\n",
            "E0000 00:00:1735060887.226127  281064 cuda_dnn.cc:8310] Unable to register cuDNN factory: Attempting to register factory for plugin cuDNN when one has already been registered\n",
            "E0000 00:00:1735060887.229199  281064 cuda_blas.cc:1418] Unable to register cuBLAS factory: Attempting to register factory for plugin cuBLAS when one has already been registered\n",
            "2024-12-24 22:51:27.243202: I tensorflow/core/platform/cpu_feature_guard.cc:210] This TensorFlow binary is optimized to use available CPU instructions in performance-critical operations.\n",
            "To enable the following instructions: AVX2 AVX_VNNI FMA, in other operations, rebuild TensorFlow with the appropriate compiler flags.\n"
          ]
        }
      ],
      "source": [
        "import pandas as pd\n",
        "import numpy as np\n",
        "import tensorflow as tf\n",
        "from tensorflow.keras.models import Sequential, load_model\n",
        "from tensorflow.keras.layers import Embedding, LSTM, Dense, Dropout\n",
        "from sklearn.model_selection import train_test_split\n",
        "from sklearn.preprocessing import LabelEncoder\n",
        "from tensorflow.keras.preprocessing.text import Tokenizer\n",
        "from tensorflow.keras.preprocessing.sequence import pad_sequences"
      ]
    },
    {
      "cell_type": "markdown",
      "metadata": {
        "id": "YVvaCkapFttv"
      },
      "source": [
        "#Load Dataset"
      ]
    },
    {
      "cell_type": "code",
      "execution_count": 3,
      "metadata": {
        "id": "Ib0-aVr1FotZ"
      },
      "outputs": [],
      "source": [
        "df = pd.read_csv(\"/home/navin-lakshh/Documents/DocUnderstand/shuffled_file.csv\", encoding='latin-1')\n"
      ]
    },
    {
      "cell_type": "code",
      "execution_count": null,
      "metadata": {
        "colab": {
          "base_uri": "https://localhost:8080/"
        },
        "id": "7g_C8lcdF2Ju",
        "outputId": "a80ca7eb-931f-45cc-c079-41d628e5cc3c"
      },
      "outputs": [
        {
          "name": "stdout",
          "output_type": "stream",
          "text": [
            "<class 'pandas.core.frame.DataFrame'>\n",
            "RangeIndex: 1363 entries, 0 to 1362\n",
            "Data columns (total 2 columns):\n",
            " #   Column    Non-Null Count  Dtype \n",
            "---  ------    --------------  ----- \n",
            " 0   Label     1363 non-null   int64 \n",
            " 1   Document  1363 non-null   object\n",
            "dtypes: int64(1), object(1)\n",
            "memory usage: 21.4+ KB\n"
          ]
        }
      ],
      "source": [
        "df.info()"
      ]
    },
    {
      "cell_type": "code",
      "execution_count": null,
      "metadata": {
        "colab": {
          "base_uri": "https://localhost:8080/",
          "height": 424
        },
        "id": "a9R1QRTuF5yN",
        "outputId": "94cf15e0-e573-488b-844f-ac2b3104b7fe"
      },
      "outputs": [
        {
          "data": {
            "text/html": [
              "<div>\n",
              "<style scoped>\n",
              "    .dataframe tbody tr th:only-of-type {\n",
              "        vertical-align: middle;\n",
              "    }\n",
              "\n",
              "    .dataframe tbody tr th {\n",
              "        vertical-align: top;\n",
              "    }\n",
              "\n",
              "    .dataframe thead th {\n",
              "        text-align: right;\n",
              "    }\n",
              "</style>\n",
              "<table border=\"1\" class=\"dataframe\">\n",
              "  <thead>\n",
              "    <tr style=\"text-align: right;\">\n",
              "      <th></th>\n",
              "      <th>Label</th>\n",
              "      <th>Document</th>\n",
              "    </tr>\n",
              "  </thead>\n",
              "  <tbody>\n",
              "    <tr>\n",
              "      <th>0</th>\n",
              "      <td>2</td>\n",
              "      <td>The community of WEST HARTFORD (Tax Code 155),...</td>\n",
              "    </tr>\n",
              "    <tr>\n",
              "      <th>1</th>\n",
              "      <td>2</td>\n",
              "      <td>The town of PRESTON (Tax Code 114), with a pop...</td>\n",
              "    </tr>\n",
              "    <tr>\n",
              "      <th>2</th>\n",
              "      <td>2</td>\n",
              "      <td>The community of WEST HAVEN (Tax Code 156), wi...</td>\n",
              "    </tr>\n",
              "    <tr>\n",
              "      <th>3</th>\n",
              "      <td>0</td>\n",
              "      <td>I, Vijay Kumar, holding an NRI account with ac...</td>\n",
              "    </tr>\n",
              "    <tr>\n",
              "      <th>4</th>\n",
              "      <td>0</td>\n",
              "      <td>I, Arvind Kumar, request a credit card for mak...</td>\n",
              "    </tr>\n",
              "    <tr>\n",
              "      <th>...</th>\n",
              "      <td>...</td>\n",
              "      <td>...</td>\n",
              "    </tr>\n",
              "    <tr>\n",
              "      <th>1358</th>\n",
              "      <td>1</td>\n",
              "      <td>USA Florida DRIVER LICENSE PH 754-898-9516 CLA...</td>\n",
              "    </tr>\n",
              "    <tr>\n",
              "      <th>1359</th>\n",
              "      <td>2</td>\n",
              "      <td>The community of THOMPSON (Tax Code 141), with...</td>\n",
              "    </tr>\n",
              "    <tr>\n",
              "      <th>1360</th>\n",
              "      <td>2</td>\n",
              "      <td>The community of BOLTON (Tax Code 12), with a ...</td>\n",
              "    </tr>\n",
              "    <tr>\n",
              "      <th>1361</th>\n",
              "      <td>1</td>\n",
              "      <td>PERMANENT RESIDENT CARD NAME CRITTENDEN LeeW I...</td>\n",
              "    </tr>\n",
              "    <tr>\n",
              "      <th>1362</th>\n",
              "      <td>1</td>\n",
              "      <td>1 !i KONINKRNK DeR KSDEALANDEN monefenencie 81...</td>\n",
              "    </tr>\n",
              "  </tbody>\n",
              "</table>\n",
              "<p>1363 rows × 2 columns</p>\n",
              "</div>"
            ],
            "text/plain": [
              "      Label                                           Document\n",
              "0         2  The community of WEST HARTFORD (Tax Code 155),...\n",
              "1         2  The town of PRESTON (Tax Code 114), with a pop...\n",
              "2         2  The community of WEST HAVEN (Tax Code 156), wi...\n",
              "3         0  I, Vijay Kumar, holding an NRI account with ac...\n",
              "4         0  I, Arvind Kumar, request a credit card for mak...\n",
              "...     ...                                                ...\n",
              "1358      1  USA Florida DRIVER LICENSE PH 754-898-9516 CLA...\n",
              "1359      2  The community of THOMPSON (Tax Code 141), with...\n",
              "1360      2  The community of BOLTON (Tax Code 12), with a ...\n",
              "1361      1  PERMANENT RESIDENT CARD NAME CRITTENDEN LeeW I...\n",
              "1362      1  1 !i KONINKRNK DeR KSDEALANDEN monefenencie 81...\n",
              "\n",
              "[1363 rows x 2 columns]"
            ]
          },
          "execution_count": 5,
          "metadata": {},
          "output_type": "execute_result"
        }
      ],
      "source": [
        "df"
      ]
    },
    {
      "cell_type": "markdown",
      "metadata": {
        "id": "A4nkGMtGF67l"
      },
      "source": [
        "#Preprocessing"
      ]
    },
    {
      "cell_type": "code",
      "execution_count": 6,
      "metadata": {
        "id": "XTyXAQiTGEUk"
      },
      "outputs": [],
      "source": [
        "import re"
      ]
    },
    {
      "cell_type": "code",
      "execution_count": 7,
      "metadata": {
        "id": "OzofnuxfF-1V"
      },
      "outputs": [
        {
          "name": "stderr",
          "output_type": "stream",
          "text": [
            "<>:11: SyntaxWarning: invalid escape sequence '\\('\n",
            "<>:12: SyntaxWarning: invalid escape sequence '\\)'\n",
            "<>:13: SyntaxWarning: invalid escape sequence '\\?'\n",
            "<>:11: SyntaxWarning: invalid escape sequence '\\('\n",
            "<>:12: SyntaxWarning: invalid escape sequence '\\)'\n",
            "<>:13: SyntaxWarning: invalid escape sequence '\\?'\n",
            "/tmp/ipykernel_281064/1229834350.py:11: SyntaxWarning: invalid escape sequence '\\('\n",
            "  string = re.sub(r\"\\(\", \" \\( \", string)\n",
            "/tmp/ipykernel_281064/1229834350.py:12: SyntaxWarning: invalid escape sequence '\\)'\n",
            "  string = re.sub(r\"\\)\", \" \\) \", string)\n",
            "/tmp/ipykernel_281064/1229834350.py:13: SyntaxWarning: invalid escape sequence '\\?'\n",
            "  string = re.sub(r\"\\?\", \" \\? \", string)\n"
          ]
        }
      ],
      "source": [
        "def preprocessing(string):\n",
        "    string = re.sub(r\"[^A-Za-z0-9(),!?\\'\\`]\", \" \", string)\n",
        "    string = re.sub(r\"\\'s\", \" \\'s\", string)\n",
        "    string = re.sub(r\"\\'ve\", \" \\'ve\", string)\n",
        "    string = re.sub(r\"n\\'t\", \" n\\'t\", string)\n",
        "    string = re.sub(r\"\\'re\", \" \\'re\", string)\n",
        "    string = re.sub(r\"\\'d\", \" \\'d\", string)\n",
        "    string = re.sub(r\"\\'ll\", \" \\'ll\", string)\n",
        "    string = re.sub(r\",\", \" , \", string)\n",
        "    string = re.sub(r\"!\", \" ! \", string)\n",
        "    string = re.sub(r\"\\(\", \" \\( \", string)\n",
        "    string = re.sub(r\"\\)\", \" \\) \", string)\n",
        "    string = re.sub(r\"\\?\", \" \\? \", string)\n",
        "    string = re.sub(r\"\\s{2,}\", \" \", string)\n",
        "    return string.strip().lower()"
      ]
    },
    {
      "cell_type": "code",
      "execution_count": 8,
      "metadata": {
        "id": "LjmpU6cYGF7o"
      },
      "outputs": [],
      "source": [
        "df['Document'] = df['Document'].apply(preprocessing)"
      ]
    },
    {
      "cell_type": "code",
      "execution_count": 9,
      "metadata": {
        "colab": {
          "base_uri": "https://localhost:8080/",
          "height": 424
        },
        "id": "JaL_Ss_lGhrG",
        "outputId": "feee2716-53cd-4f59-c585-861e0d2ce2b5"
      },
      "outputs": [
        {
          "data": {
            "text/html": [
              "<div>\n",
              "<style scoped>\n",
              "    .dataframe tbody tr th:only-of-type {\n",
              "        vertical-align: middle;\n",
              "    }\n",
              "\n",
              "    .dataframe tbody tr th {\n",
              "        vertical-align: top;\n",
              "    }\n",
              "\n",
              "    .dataframe thead th {\n",
              "        text-align: right;\n",
              "    }\n",
              "</style>\n",
              "<table border=\"1\" class=\"dataframe\">\n",
              "  <thead>\n",
              "    <tr style=\"text-align: right;\">\n",
              "      <th></th>\n",
              "      <th>Label</th>\n",
              "      <th>Document</th>\n",
              "    </tr>\n",
              "  </thead>\n",
              "  <tbody>\n",
              "    <tr>\n",
              "      <th>0</th>\n",
              "      <td>2</td>\n",
              "      <td>the community of west hartford \\( tax code 155...</td>\n",
              "    </tr>\n",
              "    <tr>\n",
              "      <th>1</th>\n",
              "      <td>2</td>\n",
              "      <td>the town of preston \\( tax code 114 \\) , with ...</td>\n",
              "    </tr>\n",
              "    <tr>\n",
              "      <th>2</th>\n",
              "      <td>2</td>\n",
              "      <td>the community of west haven \\( tax code 156 \\)...</td>\n",
              "    </tr>\n",
              "    <tr>\n",
              "      <th>3</th>\n",
              "      <td>0</td>\n",
              "      <td>i , vijay kumar , holding an nri account with ...</td>\n",
              "    </tr>\n",
              "    <tr>\n",
              "      <th>4</th>\n",
              "      <td>0</td>\n",
              "      <td>i , arvind kumar , request a credit card for m...</td>\n",
              "    </tr>\n",
              "    <tr>\n",
              "      <th>...</th>\n",
              "      <td>...</td>\n",
              "      <td>...</td>\n",
              "    </tr>\n",
              "    <tr>\n",
              "      <th>1358</th>\n",
              "      <td>1</td>\n",
              "      <td>usa florida driver license ph 754 898 9516 cla...</td>\n",
              "    </tr>\n",
              "    <tr>\n",
              "      <th>1359</th>\n",
              "      <td>2</td>\n",
              "      <td>the community of thompson \\( tax code 141 \\) ,...</td>\n",
              "    </tr>\n",
              "    <tr>\n",
              "      <th>1360</th>\n",
              "      <td>2</td>\n",
              "      <td>the community of bolton \\( tax code 12 \\) , wi...</td>\n",
              "    </tr>\n",
              "    <tr>\n",
              "      <th>1361</th>\n",
              "      <td>1</td>\n",
              "      <td>permanent resident card name crittenden leew i...</td>\n",
              "    </tr>\n",
              "    <tr>\n",
              "      <th>1362</th>\n",
              "      <td>1</td>\n",
              "      <td>1 ! i koninkrnk der ksdealanden monefenencie 8...</td>\n",
              "    </tr>\n",
              "  </tbody>\n",
              "</table>\n",
              "<p>1363 rows × 2 columns</p>\n",
              "</div>"
            ],
            "text/plain": [
              "      Label                                           Document\n",
              "0         2  the community of west hartford \\( tax code 155...\n",
              "1         2  the town of preston \\( tax code 114 \\) , with ...\n",
              "2         2  the community of west haven \\( tax code 156 \\)...\n",
              "3         0  i , vijay kumar , holding an nri account with ...\n",
              "4         0  i , arvind kumar , request a credit card for m...\n",
              "...     ...                                                ...\n",
              "1358      1  usa florida driver license ph 754 898 9516 cla...\n",
              "1359      2  the community of thompson \\( tax code 141 \\) ,...\n",
              "1360      2  the community of bolton \\( tax code 12 \\) , wi...\n",
              "1361      1  permanent resident card name crittenden leew i...\n",
              "1362      1  1 ! i koninkrnk der ksdealanden monefenencie 8...\n",
              "\n",
              "[1363 rows x 2 columns]"
            ]
          },
          "execution_count": 9,
          "metadata": {},
          "output_type": "execute_result"
        }
      ],
      "source": [
        "df"
      ]
    },
    {
      "cell_type": "code",
      "execution_count": 10,
      "metadata": {
        "colab": {
          "base_uri": "https://localhost:8080/",
          "height": 55
        },
        "id": "AoHqfc3IGNdF",
        "outputId": "a61ef607-4278-4894-b3c1-5374e83b22df"
      },
      "outputs": [
        {
          "data": {
            "text/plain": [
              "'i , vijay kumar , holding an nri account with account number 123456789 , request an atm card for my account kindly process my request'"
            ]
          },
          "execution_count": 10,
          "metadata": {},
          "output_type": "execute_result"
        }
      ],
      "source": [
        "df['Document'][3]"
      ]
    },
    {
      "cell_type": "code",
      "execution_count": 11,
      "metadata": {
        "id": "-zDeKrnJGmDc"
      },
      "outputs": [],
      "source": [
        "texts = df['Document'].values\n",
        "labels = df['Label'].values"
      ]
    },
    {
      "cell_type": "code",
      "execution_count": 12,
      "metadata": {
        "id": "PEKj04IzGtBz"
      },
      "outputs": [],
      "source": [
        "tokenizer = Tokenizer(num_words=10000)\n",
        "tokenizer.fit_on_texts(texts)\n",
        "sequences = tokenizer.texts_to_sequences(texts)\n",
        "X = pad_sequences(sequences, maxlen=100)\n",
        "y = labels"
      ]
    },
    {
      "cell_type": "markdown",
      "metadata": {
        "id": "mP0EuQ7qGwws"
      },
      "source": [
        "#Encode Labels"
      ]
    },
    {
      "cell_type": "code",
      "execution_count": 13,
      "metadata": {
        "colab": {
          "base_uri": "https://localhost:8080/"
        },
        "id": "4ObVw3bNG03N",
        "outputId": "ed57f249-cf32-4722-c27a-79422ad6e15e"
      },
      "outputs": [
        {
          "data": {
            "text/plain": [
              "array([2, 2, 2, ..., 2, 1, 1])"
            ]
          },
          "execution_count": 13,
          "metadata": {},
          "output_type": "execute_result"
        }
      ],
      "source": [
        "label_encoder = LabelEncoder()\n",
        "y = label_encoder.fit_transform(labels)\n",
        "y"
      ]
    },
    {
      "cell_type": "markdown",
      "metadata": {
        "id": "6ElqDkhEG2Z0"
      },
      "source": [
        "#Train-test split"
      ]
    },
    {
      "cell_type": "code",
      "execution_count": 14,
      "metadata": {
        "id": "JmuR1VctG4s9"
      },
      "outputs": [
        {
          "name": "stdout",
          "output_type": "stream",
          "text": [
            "[3 0 3 3 3 2 3 2 0 3 0 2 2 0 1 0 1 2 2 2 0 0 3 2 3 2 2 0 2 2 3 0 1 2 2 1 0\n",
            " 2 1 3 1 1 2 1 2 2 3 0 3 2 1 0 3 0 3 0 3 0 3 1 0 2 2 1 0 2 2 3 0 0 1 2 3 2\n",
            " 0 2 0 2 2 3 3 3 1 1 1 3 3 2 2 1 2 2 1 0 1 2 0 3 2 0 2 2 3 2 1 3 3 1 2 2 3\n",
            " 1 0 2 2 3 2 1 0 3 1 2 3 3 0 0 2 3 2 2 0 3 0 3 2 3 3 0 0 0 2 2 2 1 0 2 2 2\n",
            " 0 1 0 0 2 0 1 0 0 2 0 2 2 2 3 1 2 2 0 2 3 0 2 2 2 2 3 1 3 2 2 2 1 2 2 1 2\n",
            " 2 2 2 1 2 2 3 3 3 1 1 3 2 2 3 2 2 1 2 0 0 2 0 1 3 0 2 1 2 2 3 2 2 2 3 2 0\n",
            " 2 1 3 2 2 2 0 2 0 1 0 0 0 3 1 3 0 2 0 3 2 2 1 2 1 0 3 3 2 1 2 0 3 2 3 0 3\n",
            " 3 1 0 3 3 0 3 2 1 2 0 3 3 3]\n",
            "[0 0 0 ... 2 1 2]\n",
            "[2 2 2 ... 2 1 1]\n"
          ]
        }
      ],
      "source": [
        "X_train, X_test, y_train, y_test = train_test_split(X, y, test_size=0.2, random_state=42)\n",
        "print(y_test)\n",
        "print(y_train)\n",
        "print(y)\n"
      ]
    },
    {
      "cell_type": "markdown",
      "metadata": {
        "id": "jQk_HR2aG9C1"
      },
      "source": [
        "#LSTM Model"
      ]
    },
    {
      "cell_type": "code",
      "execution_count": 15,
      "metadata": {
        "id": "z0XdqEE0G6ZQ"
      },
      "outputs": [
        {
          "name": "stderr",
          "output_type": "stream",
          "text": [
            "/home/navin-lakshh/miniconda3/envs/neuDocUnder/lib/python3.12/site-packages/keras/src/layers/core/embedding.py:90: UserWarning: Argument `input_length` is deprecated. Just remove it.\n",
            "  warnings.warn(\n",
            "2024-12-24 22:51:34.713420: E external/local_xla/xla/stream_executor/cuda/cuda_driver.cc:152] failed call to cuInit: INTERNAL: CUDA error: Failed call to cuInit: UNKNOWN ERROR (303)\n"
          ]
        }
      ],
      "source": [
        "model = Sequential()\n",
        "model.add(Embedding(input_dim=10000, output_dim=128, input_length=100))\n",
        "model.add(LSTM(128, dropout=0.2, recurrent_dropout=0.2))\n",
        "model.add(Dense(4, activation='softmax')) # 4 classes"
      ]
    },
    {
      "cell_type": "code",
      "execution_count": 16,
      "metadata": {
        "id": "JwFsk5g7HD8i"
      },
      "outputs": [],
      "source": [
        "model.compile(loss='sparse_categorical_crossentropy', optimizer='adam', metrics=['accuracy'])\n"
      ]
    },
    {
      "cell_type": "markdown",
      "metadata": {
        "id": "TwlrDwlVHGFW"
      },
      "source": [
        "#Train the model"
      ]
    },
    {
      "cell_type": "code",
      "execution_count": 17,
      "metadata": {
        "colab": {
          "base_uri": "https://localhost:8080/"
        },
        "id": "ofZ-GY60HIZc",
        "outputId": "418ab82c-6b47-4902-ffeb-ec1f955b9a69"
      },
      "outputs": [
        {
          "name": "stdout",
          "output_type": "stream",
          "text": [
            "Epoch 1/10\n",
            "\u001b[1m18/18\u001b[0m \u001b[32m━━━━━━━━━━━━━━━━━━━━\u001b[0m\u001b[37m\u001b[0m \u001b[1m9s\u001b[0m 396ms/step - accuracy: 0.4340 - loss: 1.3000 - val_accuracy: 0.6960 - val_loss: 0.7028\n",
            "Epoch 2/10\n",
            "\u001b[1m18/18\u001b[0m \u001b[32m━━━━━━━━━━━━━━━━━━━━\u001b[0m\u001b[37m\u001b[0m \u001b[1m4s\u001b[0m 244ms/step - accuracy: 0.8018 - loss: 0.5548 - val_accuracy: 0.9267 - val_loss: 0.2395\n",
            "Epoch 3/10\n",
            "\u001b[1m18/18\u001b[0m \u001b[32m━━━━━━━━━━━━━━━━━━━━\u001b[0m\u001b[37m\u001b[0m \u001b[1m5s\u001b[0m 253ms/step - accuracy: 0.9537 - loss: 0.2061 - val_accuracy: 0.9597 - val_loss: 0.1392\n",
            "Epoch 4/10\n",
            "\u001b[1m18/18\u001b[0m \u001b[32m━━━━━━━━━━━━━━━━━━━━\u001b[0m\u001b[37m\u001b[0m \u001b[1m5s\u001b[0m 252ms/step - accuracy: 0.9826 - loss: 0.0866 - val_accuracy: 0.9780 - val_loss: 0.0787\n",
            "Epoch 5/10\n",
            "\u001b[1m18/18\u001b[0m \u001b[32m━━━━━━━━━━━━━━━━━━━━\u001b[0m\u001b[37m\u001b[0m \u001b[1m5s\u001b[0m 257ms/step - accuracy: 0.9936 - loss: 0.0442 - val_accuracy: 0.9744 - val_loss: 0.0770\n",
            "Epoch 6/10\n",
            "\u001b[1m18/18\u001b[0m \u001b[32m━━━━━━━━━━━━━━━━━━━━\u001b[0m\u001b[37m\u001b[0m \u001b[1m6s\u001b[0m 326ms/step - accuracy: 0.9965 - loss: 0.0294 - val_accuracy: 0.9524 - val_loss: 0.1379\n",
            "Epoch 7/10\n",
            "\u001b[1m18/18\u001b[0m \u001b[32m━━━━━━━━━━━━━━━━━━━━\u001b[0m\u001b[37m\u001b[0m \u001b[1m6s\u001b[0m 351ms/step - accuracy: 0.9943 - loss: 0.0397 - val_accuracy: 0.9817 - val_loss: 0.0708\n",
            "Epoch 8/10\n",
            "\u001b[1m18/18\u001b[0m \u001b[32m━━━━━━━━━━━━━━━━━━━━\u001b[0m\u001b[37m\u001b[0m \u001b[1m6s\u001b[0m 334ms/step - accuracy: 0.9979 - loss: 0.0197 - val_accuracy: 0.9744 - val_loss: 0.0748\n",
            "Epoch 9/10\n",
            "\u001b[1m18/18\u001b[0m \u001b[32m━━━━━━━━━━━━━━━━━━━━\u001b[0m\u001b[37m\u001b[0m \u001b[1m5s\u001b[0m 294ms/step - accuracy: 0.9988 - loss: 0.0126 - val_accuracy: 0.9744 - val_loss: 0.0630\n",
            "Epoch 10/10\n",
            "\u001b[1m18/18\u001b[0m \u001b[32m━━━━━━━━━━━━━━━━━━━━\u001b[0m\u001b[37m\u001b[0m \u001b[1m6s\u001b[0m 344ms/step - accuracy: 1.0000 - loss: 0.0078 - val_accuracy: 0.9780 - val_loss: 0.0752\n"
          ]
        },
        {
          "data": {
            "text/plain": [
              "<keras.src.callbacks.history.History at 0x78ba60071190>"
            ]
          },
          "execution_count": 17,
          "metadata": {},
          "output_type": "execute_result"
        }
      ],
      "source": [
        "model.fit(X_train, y_train, epochs=10, batch_size=64, validation_data=(X_test, y_test))\n"
      ]
    },
    {
      "cell_type": "markdown",
      "metadata": {
        "id": "yZ5zra_qH6ZE"
      },
      "source": [
        "#Save the model"
      ]
    },
    {
      "cell_type": "code",
      "execution_count": 19,
      "metadata": {
        "colab": {
          "base_uri": "https://localhost:8080/"
        },
        "id": "1wolCLQ4HTAA",
        "outputId": "1e13bfba-2dce-4123-fa5a-6ffb5dfca711"
      },
      "outputs": [
        {
          "name": "stderr",
          "output_type": "stream",
          "text": [
            "WARNING:absl:You are saving your model as an HDF5 file via `model.save()` or `keras.saving.save_model(model)`. This file format is considered legacy. We recommend using instead the native Keras format, e.g. `model.save('my_model.keras')` or `keras.saving.save_model(model, 'my_model.keras')`. \n"
          ]
        },
        {
          "name": "stdout",
          "output_type": "stream",
          "text": [
            "Model saved to 'lstm.h5'.\n"
          ]
        }
      ],
      "source": [
        "\n",
        "model.save('lstm_model.h5')\n",
        "print(\"Model saved to 'lstm.h5'.\")"
      ]
    },
    {
      "cell_type": "code",
      "execution_count": 20,
      "metadata": {},
      "outputs": [],
      "source": [
        "model.save('lstm_keras_model.keras')"
      ]
    },
    {
      "cell_type": "markdown",
      "metadata": {},
      "source": [
        "#Save Toeknizers and labelEncoders"
      ]
    },
    {
      "cell_type": "code",
      "execution_count": 21,
      "metadata": {},
      "outputs": [],
      "source": [
        "import pickle"
      ]
    },
    {
      "cell_type": "code",
      "execution_count": 22,
      "metadata": {},
      "outputs": [],
      "source": [
        "with open(\"Tokenizer.pickle\",'wb') as t:\n",
        "    pickle.dump(tokenizer,t,protocol=pickle.HIGHEST_PROTOCOL)\n"
      ]
    },
    {
      "cell_type": "code",
      "execution_count": 28,
      "metadata": {},
      "outputs": [],
      "source": [
        "with open(\"LabelEncoder.pickle\",'wb') as lb:\n",
        "    pickle.dump(label_encoder,lb,protocol=pickle.HIGHEST_PROTOCOL)"
      ]
    },
    {
      "cell_type": "markdown",
      "metadata": {
        "id": "I-RB7SD0H_dc"
      },
      "source": [
        "#Load the model"
      ]
    },
    {
      "cell_type": "code",
      "execution_count": 29,
      "metadata": {
        "colab": {
          "base_uri": "https://localhost:8080/"
        },
        "id": "42jiJo0-H-cF",
        "outputId": "4e6ceaf5-3d30-4977-ca40-60eee4e9f1c8"
      },
      "outputs": [
        {
          "name": "stdout",
          "output_type": "stream",
          "text": [
            "Model loaded successfully.\n"
          ]
        },
        {
          "name": "stderr",
          "output_type": "stream",
          "text": [
            "/home/navin-lakshh/miniconda3/envs/neuDocUnder/lib/python3.12/site-packages/keras/src/saving/saving_lib.py:757: UserWarning: Skipping variable loading for optimizer 'rmsprop', because it has 8 variables whereas the saved optimizer has 14 variables. \n",
            "  saveable.load_own_variables(weights_store.get(inner_path))\n"
          ]
        }
      ],
      "source": [
        "loaded_model = load_model('lstm_keras_model.keras')\n",
        "print(\"Model loaded successfully.\")"
      ]
    },
    {
      "cell_type": "code",
      "execution_count": 30,
      "metadata": {
        "colab": {
          "base_uri": "https://localhost:8080/"
        },
        "id": "AqhS43wbHYK0",
        "outputId": "16b48f68-e754-4d3d-f570-916ec89a4119"
      },
      "outputs": [
        {
          "name": "stdout",
          "output_type": "stream",
          "text": [
            "\u001b[1m5/5\u001b[0m \u001b[32m━━━━━━━━━━━━━━━━━━━━\u001b[0m\u001b[37m\u001b[0m \u001b[1m1s\u001b[0m 169ms/step - accuracy: 0.9788 - loss: 0.0832\n",
            "Test accuracy: 97.80%\n"
          ]
        }
      ],
      "source": [
        "score = loaded_model.evaluate(X_test, y_test, batch_size=64)\n",
        "print(\"Test accuracy: %.2f%%\" % (score[1] * 100))"
      ]
    },
    {
      "cell_type": "markdown",
      "metadata": {
        "id": "kydK4Dr5IMTU"
      },
      "source": [
        "#Prediction Function"
      ]
    },
    {
      "cell_type": "code",
      "execution_count": 31,
      "metadata": {
        "id": "Xg7JdvBMIQtN"
      },
      "outputs": [],
      "source": [
        "def predict_label(input_text):\n",
        "    # Preprocess the input text\n",
        "    input_sequence = tokenizer.texts_to_sequences([input_text])\n",
        "    input_padded = pad_sequences(input_sequence, maxlen=100)\n",
        "\n",
        "    # Predict the label\n",
        "    prediction = loaded_model.predict(input_padded)\n",
        "    predicted_class = np.argmax(prediction, axis=1)[0]\n",
        "    label = label_encoder.inverse_transform([predicted_class])[0]\n",
        "\n",
        "    return label"
      ]
    },
    {
      "cell_type": "code",
      "execution_count": 27,
      "metadata": {},
      "outputs": [
        {
          "name": "stdout",
          "output_type": "stream",
          "text": [
            " * Serving Flask app '__main__'\n",
            " * Debug mode: on\n"
          ]
        },
        {
          "name": "stderr",
          "output_type": "stream",
          "text": [
            "INFO:werkzeug:\u001b[31m\u001b[1mWARNING: This is a development server. Do not use it in a production deployment. Use a production WSGI server instead.\u001b[0m\n",
            " * Running on http://127.0.0.1:5001\n",
            "INFO:werkzeug:\u001b[33mPress CTRL+C to quit\u001b[0m\n",
            "INFO:werkzeug: * Restarting with stat\n",
            "Traceback (most recent call last):\n",
            "  File \"<frozen runpy>\", line 198, in _run_module_as_main\n",
            "  File \"<frozen runpy>\", line 88, in _run_code\n",
            "  File \"/home/navin-lakshh/miniconda3/envs/neuDocUnder/lib/python3.12/site-packages/ipykernel_launcher.py\", line 18, in <module>\n",
            "    app.launch_new_instance()\n",
            "  File \"/home/navin-lakshh/miniconda3/envs/neuDocUnder/lib/python3.12/site-packages/traitlets/config/application.py\", line 1074, in launch_instance\n",
            "    app.initialize(argv)\n",
            "  File \"/home/navin-lakshh/miniconda3/envs/neuDocUnder/lib/python3.12/site-packages/traitlets/config/application.py\", line 118, in inner\n",
            "    return method(app, *args, **kwargs)\n",
            "           ^^^^^^^^^^^^^^^^^^^^^^^^^^^^\n",
            "  File \"/home/navin-lakshh/miniconda3/envs/neuDocUnder/lib/python3.12/site-packages/ipykernel/kernelapp.py\", line 692, in initialize\n",
            "    self.init_sockets()\n",
            "  File \"/home/navin-lakshh/miniconda3/envs/neuDocUnder/lib/python3.12/site-packages/ipykernel/kernelapp.py\", line 331, in init_sockets\n",
            "    self.shell_port = self._bind_socket(self.shell_socket, self.shell_port)\n",
            "                      ^^^^^^^^^^^^^^^^^^^^^^^^^^^^^^^^^^^^^^^^^^^^^^^^^^^^^\n",
            "  File \"/home/navin-lakshh/miniconda3/envs/neuDocUnder/lib/python3.12/site-packages/ipykernel/kernelapp.py\", line 253, in _bind_socket\n",
            "    return self._try_bind_socket(s, port)\n",
            "           ^^^^^^^^^^^^^^^^^^^^^^^^^^^^^^\n",
            "  File \"/home/navin-lakshh/miniconda3/envs/neuDocUnder/lib/python3.12/site-packages/ipykernel/kernelapp.py\", line 229, in _try_bind_socket\n",
            "    s.bind(\"tcp://%s:%i\" % (self.ip, port))\n",
            "  File \"/home/navin-lakshh/miniconda3/envs/neuDocUnder/lib/python3.12/site-packages/zmq/sugar/socket.py\", line 311, in bind\n",
            "    super().bind(addr)\n",
            "  File \"_zmq.py\", line 917, in zmq.backend.cython._zmq.Socket.bind\n",
            "  File \"_zmq.py\", line 179, in zmq.backend.cython._zmq._check_rc\n",
            "zmq.error.ZMQError: Address already in use (addr='tcp://127.0.0.1:9007')\n"
          ]
        },
        {
          "ename": "SystemExit",
          "evalue": "1",
          "output_type": "error",
          "traceback": [
            "An exception has occurred, use %tb to see the full traceback.\n",
            "\u001b[0;31mSystemExit\u001b[0m\u001b[0;31m:\u001b[0m 1\n"
          ]
        },
        {
          "name": "stderr",
          "output_type": "stream",
          "text": [
            "/home/navin-lakshh/miniconda3/envs/neuDocUnder/lib/python3.12/site-packages/IPython/core/interactiveshell.py:3585: UserWarning: To exit: use 'exit', 'quit', or Ctrl-D.\n",
            "  warn(\"To exit: use 'exit', 'quit', or Ctrl-D.\", stacklevel=1)\n"
          ]
        }
      ],
      "source": [
        "from flask import Flask, render_template, request, redirect, url_for\n",
        "from tensorflow.keras.models import load_model\n",
        "import numpy as np\n",
        "import time\n",
        "import os\n",
        "import pdf2image as pdi\n",
        "from dotenv import load_dotenv\n",
        "from openai import OpenAI\n",
        "import pandas as pd\n",
        "import base64\n",
        "from PIL import Image\n",
        "from tensorflow.keras.preprocessing.sequence import pad_sequences\n",
        "from sklearn.preprocessing import LabelEncoder\n",
        "from tensorflow.keras.preprocessing.text import Tokenizer\n",
        "from sklearn.model_selection import train_test_split\n",
        "import pickle\n",
        "# from sklearn.feature_extraction.text import TfidfVectorizer\n",
        "\n",
        "# Initialize Flask app\n",
        "app = Flask(__name__)\n",
        "load_dotenv()\n",
        "\n",
        "\n",
        "def encode(image):\n",
        "    with open(image, \"rb\") as f:\n",
        "        return base64.b64encode(f.read()).decode(\"utf-8\")\n",
        "    \n",
        "def t2i(image):\n",
        "    bs64img = encode(image)\n",
        "\n",
        "    client = OpenAI(\n",
        "        api_key=os.getenv('XAI'),\n",
        "        base_url=\"https://api.x.ai/v1\",\n",
        "    )\n",
        "\n",
        "    messages = [\n",
        "        {\n",
        "            \"role\": \"user\",\n",
        "            \"content\": [\n",
        "                {\n",
        "                    \"type\": \"image_url\",\n",
        "                    \"image_url\": {\n",
        "                        \"url\": f\"data:image/jpeg;base64,{bs64img}\",\n",
        "                        \"detail\": \"high\",\n",
        "                    },\n",
        "                },\n",
        "                {\n",
        "                    \"type\": \"text\",\n",
        "                    \"text\": \"You are an OCR model. Your task is to extract only the English words from the attached image. Return only the extracted text. Do not provide any context, explanations, or other commentary.\",\n",
        "                },\n",
        "            ],\n",
        "        },\n",
        "    ]\n",
        "\n",
        "    completion = client.chat.completions.create(\n",
        "        model=\"grok-2-vision-1212\",\n",
        "        messages=messages,\n",
        "        stream=False,\n",
        "        temperature=0.01,\n",
        "    )\n",
        "\n",
        "    return completion.choices[0].message.content    \n",
        "\n",
        "\n",
        "\n",
        "# Function to extract text from PDF\n",
        "def extract_text_from_pdf(pdf_file):\n",
        "    pdf_images = pdi.convert_from_path(pdf_file, dpi=300)\n",
        "    dir_path = os.getcwd()\n",
        "    image_dir = os.path.join(dir_path, 'pdf_images')\n",
        "    os.makedirs(image_dir, exist_ok=True)\n",
        "    all_text = \"\"\n",
        "    \n",
        "    for i, img in enumerate(pdf_images):\n",
        "        image_path = os.path.join(image_dir, f'page_{i}_{time.time()}.jpg')\n",
        "        img.save(image_path, 'JPEG')\n",
        "        result = t2i(image_path)\n",
        "        # page_text = ' '.join([text[1] for text in result])\n",
        "        all_text += result + '\\n'\n",
        "    print(\"Txt Extrt\")\n",
        "    print(all_text)\n",
        "    print(\"Txt extrt done\")\n",
        "    return all_text\n",
        "\n",
        "# Route to home page\n",
        "@app.route('/')\n",
        "def index():\n",
        "    return render_template('index.html')\n",
        "\n",
        "# Route to handle PDF upload and classification\n",
        "@app.route('/classify', methods=['POST'])\n",
        "def classify():\n",
        "    if 'pdf_file' not in request.files:\n",
        "        return redirect(request.url)\n",
        "    \n",
        "    pdf_file = request.files['pdf_file']\n",
        "    \n",
        "    if pdf_file.filename == '':\n",
        "        return redirect(request.url)\n",
        "    \n",
        "    if pdf_file:\n",
        "        # Save the uploaded PDF file\n",
        "        pdf_path = os.path.join(os.path.dirname(__file__), 'uploads')\n",
        "        os.makedirs(pdf_path, exist_ok=True)\n",
        "        pdf_path = os.path.join(os.path.dirname(__file__), 'uploads', pdf_file.filename)\n",
        "        pdf_file.save(pdf_path)\n",
        "\n",
        "        # Extract text from PDF\n",
        "        extracted_text = extract_text_from_pdf(pdf_path)\n",
        "\n",
        "        print(\"Txt Extrt\")\n",
        "        print(extracted_text)\n",
        "        print(\"Txt extrt done\")\n",
        "    \n",
        "\n",
        "            # extracted_text = vectz.fit_transform([extracted_text])\n",
        "        # Predict the label using the extracted text\n",
        "        predicted_label = predict_label(extracted_text)\n",
        "            # prediction=loaded_model.predict(extracted_text)\n",
        "            # predicted_class = np.argmax(prediction, axis=1)[0]\n",
        "            # predicted_label = label_encoder.inverse_transform([predicted_class])[0]\n",
        "        print(predicted_label)\n",
        "        # predicted_label=np.argmax(predicted_label,axis=1)[0]\n",
        "        # print(predicted_label)\n",
        "        # Display results\n",
        "        if predicted_label == 0:\n",
        "            document_type = \"Application Document\"\n",
        "        elif predicted_label == 1:\n",
        "            document_type = \"Identity Document\"\n",
        "        elif predicted_label == 2:\n",
        "            document_type = \"Financial Document\"\n",
        "        elif predicted_label == 3:\n",
        "            document_type = \"Receipt\"\n",
        "        else:\n",
        "            document_type = \"None\"\n",
        "\n",
        "        return render_template('index.html', document_type=document_type)\n",
        "\n",
        "# Run the app\n",
        "if __name__ == '__main__':\n",
        "    app.run(debug=True,port=5001)\n"
      ]
    },
    {
      "cell_type": "code",
      "execution_count": 25,
      "metadata": {
        "colab": {
          "base_uri": "https://localhost:8080/"
        },
        "id": "xAwFjKG2ISyl",
        "outputId": "42721db9-9380-42e9-fcf9-9d67ea26b43a"
      },
      "outputs": [
        {
          "name": "stdout",
          "output_type": "stream",
          "text": [
            "\u001b[1m1/1\u001b[0m \u001b[32m━━━━━━━━━━━━━━━━━━━━\u001b[0m\u001b[37m\u001b[0m \u001b[1m1s\u001b[0m 562ms/step\n",
            "Predicted label: 2\n",
            "\u001b[1m1/1\u001b[0m \u001b[32m━━━━━━━━━━━━━━━━━━━━\u001b[0m\u001b[37m\u001b[0m \u001b[1m0s\u001b[0m 100ms/step\n",
            "Predicted label: 2\n",
            "\u001b[1m1/1\u001b[0m \u001b[32m━━━━━━━━━━━━━━━━━━━━\u001b[0m\u001b[37m\u001b[0m \u001b[1m0s\u001b[0m 99ms/step\n",
            "Predicted label: 2\n",
            "ko\n"
          ]
        }
      ],
      "source": [
        "# Get user input and predict\n",
        "while True:\n",
        "    user_input = input(\"Enter text (or 'exit' to quit): \")\n",
        "    if user_input.lower() == 'exit':\n",
        "        break\n",
        "    predicted_label = predict_label(user_input)\n",
        "    print(f\"Predicted label: {predicted_label}\")\n",
        "print('ko')"
      ]
    },
    {
      "cell_type": "code",
      "execution_count": 26,
      "metadata": {
        "id": "YaoRHF0Ah50o"
      },
      "outputs": [
        {
          "name": "stdout",
          "output_type": "stream",
          "text": [
            "\u001b[1m1/1\u001b[0m \u001b[32m━━━━━━━━━━━━━━━━━━━━\u001b[0m\u001b[37m\u001b[0m \u001b[1m0s\u001b[0m 140ms/step\n"
          ]
        },
        {
          "data": {
            "text/plain": [
              "2"
            ]
          },
          "execution_count": 26,
          "metadata": {},
          "output_type": "execute_result"
        }
      ],
      "source": [
        "ll=predict_label(\" The community of ANSONIA (Tax Code 2), with a population of 18923 as of 2022, reports a fiscal year-end fund balance of $3817995.00 in unassigned funds and $7982841.00 in total fund balance deficit. The unemployment rate averaged 5.88% for the year. The community holds a net pension liability of $16179257.00 and a net OPEB liability of $231882689.00, with bonded long-term debt amounting to $30411026.00. The annual debt service is recorded at $2301205.00. The equalized net grand list valuation is $1862158093.00.\")\n",
        "ll.tolist()"
      ]
    },
    {
      "cell_type": "markdown",
      "metadata": {
        "id": "5wUEFDyvh6IZ"
      },
      "source": [
        "#Testing"
      ]
    },
    {
      "cell_type": "code",
      "execution_count": null,
      "metadata": {
        "colab": {
          "base_uri": "https://localhost:8080/"
        },
        "id": "TO71wSf1jDBC",
        "outputId": "bac3e69f-296b-4133-bb56-c3618c8835a1"
      },
      "outputs": [],
      "source": [
        "if predicted_label == 0:\n",
        "  print(\"Application Document\")\n",
        "elif predicted_label == 1:\n",
        "  print(\"Identity Document\")\n",
        "elif predicted_label == 2:\n",
        "  print(\"Finiacnial Document\")\n",
        "elif predicted_label == 3:\n",
        "  print(\"Receipt\")\n",
        "else:\n",
        "  print(\"None\")"
      ]
    },
    {
      "cell_type": "markdown",
      "metadata": {
        "id": "JBbb4AZyG8gF"
      },
      "source": []
    }
  ],
  "metadata": {
    "colab": {
      "provenance": []
    },
    "kernelspec": {
      "display_name": "neuDocUnder",
      "language": "python",
      "name": "python3"
    },
    "language_info": {
      "codemirror_mode": {
        "name": "ipython",
        "version": 3
      },
      "file_extension": ".py",
      "mimetype": "text/x-python",
      "name": "python",
      "nbconvert_exporter": "python",
      "pygments_lexer": "ipython3",
      "version": "3.12.2"
    }
  },
  "nbformat": 4,
  "nbformat_minor": 0
}
